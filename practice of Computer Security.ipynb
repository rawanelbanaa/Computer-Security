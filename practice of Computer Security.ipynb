{
 "cells": [
  {
   "cell_type": "markdown",
   "id": "26fa1d5f",
   "metadata": {},
   "source": [
    "# Caesar Chiper \n",
    "## Encryption & Decryption Text only"
   ]
  },
  {
   "cell_type": "code",
   "execution_count": 16,
   "id": "e5ab3366",
   "metadata": {},
   "outputs": [
    {
     "name": "stdout",
     "output_type": "stream",
     "text": [
      "Enter the message:RAWan123%$@\n",
      "Cipher: UDZdq      \n",
      "Enter the cipher:UDZdq\n",
      "Message:  RAWan\n"
     ]
    }
   ],
   "source": [
    "# Additive cipher is similar to caesar cipher ,in caesar cipher key is always '3'\n",
    "# Encryption part\n",
    "def encrypt(message, key):\n",
    "    cipher = \"\"\n",
    "    for i in message:\n",
    "        if i.isupper():\n",
    "            cipher += chr((ord(i) + key - 65) % 26 + 65)\n",
    "        elif i.islower():\n",
    "            cipher += chr((ord(i) + key - 97) % 26 + 97)\n",
    "        else:\n",
    "            cipher+=\" \"\n",
    "\n",
    "    return cipher\n",
    "\n",
    "message = input(\"Enter the message:\")\n",
    "print(\"Cipher:\", encrypt(message, 3))\n",
    "\n",
    "# Decryption part\n",
    "def decrypt(cipher, key):\n",
    "    message = \"\"\n",
    "    for i in cipher:\n",
    "        if i.isupper():\n",
    "            message += chr((ord(i) - key - 65) % 26 + 65)\n",
    "        elif i.islower():\n",
    "            message += chr((ord(i) - key - 97) % 26 + 97)\n",
    "        else:\n",
    "            message+=\" \"\n",
    "    return message\n",
    "\n",
    "cipher = input(\"Enter the cipher:\")\n",
    "print(\"Message: \", decrypt(cipher, 3))"
   ]
  },
  {
   "cell_type": "markdown",
   "id": "23004a6c",
   "metadata": {},
   "source": [
    "## Encryption & Decryption (Text , number and special char) \n",
    "### For numbers:\n",
    "\n",
    "Shift the digit value by the same amount as you shift the letters of the alphabet, for a shift of 3 – digit 5 becomes 8, 2 becomes 5, 9 becomes 2, and so on."
   ]
  },
  {
   "cell_type": "code",
   "execution_count": 53,
   "id": "f38a9df8",
   "metadata": {},
   "outputs": [],
   "source": [
    "# The Encryption Function\n",
    "\n",
    "def cipher_encrypt(plain_text, key):\n",
    "    encrypted = \"\"\n",
    "    for c in plain_text:\n",
    "        \n",
    "        if c.isupper(): #check if it's an uppercase character\n",
    "\n",
    "            c_index = ord(c) - ord('A')    \n",
    "            c_shifted = (c_index + key) % 26 + ord('A')  # shift the current character by key positions\n",
    "            c_new = chr(c_shifted)\n",
    "            encrypted += c_new\n",
    "\n",
    "        elif c.islower(): #check if its a lowecase character\n",
    "\n",
    "            # subtract the unicode of 'a' to get index in [0-25) range\n",
    "            c_index = ord(c) - ord('a') \n",
    "            c_shifted = (c_index + key) % 26 + ord('a')\n",
    "            c_new = chr(c_shifted)\n",
    "            encrypted += c_new\n",
    "\n",
    "        elif c.isdigit():\n",
    "\n",
    "            # if it's a number,shift its actual value \n",
    "            c_new = (int(c) + key) % 10\n",
    "            encrypted += str(c_new)\n",
    "\n",
    "        else:\n",
    "            \n",
    "            # if its neither alphabetical nor a number, just leave it like that\n",
    "            encrypted += c\n",
    "\n",
    "    return encrypted\n",
    "\n",
    "# The Decryption Function\n",
    "def cipher_decrypt(ciphertext, key):\n",
    "\n",
    "    decrypted = \"\"\n",
    "    for c in ciphertext:\n",
    "        if c.isupper(): \n",
    "\n",
    "            c_index = ord(c) - ord('A')\n",
    "\n",
    "            # shift the current character to left by key positions to get its original position\n",
    "            c_og_pos = (c_index - key) % 26 + ord('A')\n",
    "            c_og = chr(c_og_pos)\n",
    "            decrypted += c_og\n",
    "\n",
    "        elif c.islower(): \n",
    "\n",
    "            c_index = ord(c) - ord('a') \n",
    "            c_og_pos = (c_index - key) % 26 + ord('a')\n",
    "            c_og = chr(c_og_pos)\n",
    "            decrypted += c_og\n",
    "\n",
    "        elif c.isdigit():\n",
    "  \n",
    "            c_og = (int(c) - key) % 10  # if it's a number,shift its actual value\n",
    "            decrypted += str(c_og)\n",
    "\n",
    "        else:\n",
    "\n",
    "            # if its neither alphabetical nor a number, just leave it like that\n",
    "            decrypted += c\n",
    "\n",
    "    return decrypted"
   ]
  },
  {
   "cell_type": "code",
   "execution_count": 55,
   "id": "b346128d",
   "metadata": {},
   "outputs": [
    {
     "name": "stdout",
     "output_type": "stream",
     "text": [
      "Plain text message:\n",
      " This a test for cryptograghy123!\n",
      "Encrypted ciphertext:\n",
      " Xlmw e xiwx jsv gvctxskveklc567!\n"
     ]
    }
   ],
   "source": [
    "plain_text = \"This a test for cryptograghy123!\"\n",
    "\n",
    "ciphertext = cipher_encrypt(plain_text, 4)\n",
    "\n",
    "print(\"Plain text message:\\n\", plain_text)\n",
    "\n",
    "print(\"Encrypted ciphertext:\\n\", ciphertext)"
   ]
  },
  {
   "cell_type": "markdown",
   "id": "9962fcbd",
   "metadata": {},
   "source": [
    "<hr><hr>"
   ]
  },
  {
   "cell_type": "markdown",
   "id": "35da1cf8",
   "metadata": {},
   "source": [
    "# Monoalphabetic Cipher"
   ]
  },
  {
   "cell_type": "code",
   "execution_count": 31,
   "id": "a26cdb77",
   "metadata": {},
   "outputs": [],
   "source": [
    "monoalpha_cipher = {\n",
    "    'a': 'm',\n",
    "    'b': 'n',\n",
    "    'c': 'b',\n",
    "    'd': 'v',\n",
    "    'e': 'c',\n",
    "    'f': 'x',\n",
    "    'g': 'z',\n",
    "    'h': 'a',\n",
    "    'i': 's',\n",
    "    'j': 'd',\n",
    "    'k': 'f',\n",
    "    'l': 'g',\n",
    "    'm': 'h',\n",
    "    'n': 'j',\n",
    "    'o': 'k',\n",
    "    'p': 'l',\n",
    "    'q': 'p',\n",
    "    'r': 'o',\n",
    "    's': 'i',\n",
    "    't': 'u',\n",
    "    'u': 'y',\n",
    "    'v': 't',\n",
    "    'w': 'r',\n",
    "    'x': 'e',\n",
    "    'y': 'w',\n",
    "    'z': 'q',\n",
    "    ' ': ' ',\n",
    "}"
   ]
  },
  {
   "cell_type": "code",
   "execution_count": 32,
   "id": "c98fe2a0",
   "metadata": {},
   "outputs": [],
   "source": [
    "# Switching Key and Value place\n",
    "\n",
    "inverse_monoalpha_cipher = {}\n",
    "for key, value in monoalpha_cipher.items():\n",
    "    inverse_monoalpha_cipher[value] = key"
   ]
  },
  {
   "cell_type": "markdown",
   "id": "b8d7b997",
   "metadata": {},
   "source": [
    "## Encryption "
   ]
  },
  {
   "cell_type": "code",
   "execution_count": 44,
   "id": "9334f973",
   "metadata": {},
   "outputs": [
    {
     "name": "stdout",
     "output_type": "stream",
     "text": [
      "ruh mhnmiimvko\n"
     ]
    }
   ],
   "source": [
    "msg = \"WTM Ambassador\"\n",
    "new_msg = msg.lower()\n",
    "encrypted_message = []\n",
    "for letter in new_msg:\n",
    "    encrypted_message.append(monoalpha_cipher.get(letter, letter))\n",
    "\n",
    "print(''.join(encrypted_message))"
   ]
  },
  {
   "cell_type": "markdown",
   "id": "638f21cc",
   "metadata": {},
   "source": [
    "## Decryption"
   ]
  },
  {
   "cell_type": "code",
   "execution_count": 45,
   "id": "e15f2f3f",
   "metadata": {},
   "outputs": [
    {
     "name": "stdout",
     "output_type": "stream",
     "text": [
      "wtm ambassador\n"
     ]
    }
   ],
   "source": [
    "# Using the inverse_cipher, We may decrypt a message\n",
    "encrypted_message = \"ruh mhnmiimvko\"\n",
    "decrypted_message = []\n",
    "for letter in encrypted_message:\n",
    "     decrypted_message.append( inverse_monoalpha_cipher.get(letter, letter))\n",
    "\n",
    "print(''.join( decrypted_message ))"
   ]
  },
  {
   "cell_type": "markdown",
   "id": "e3a1e73d",
   "metadata": {},
   "source": [
    "<hr><hr>\n"
   ]
  },
  {
   "cell_type": "markdown",
   "id": "a0242268",
   "metadata": {},
   "source": [
    "# Polyalphabetic Cipher (Vigenère Cipher)"
   ]
  },
  {
   "cell_type": "markdown",
   "id": "9c69d882",
   "metadata": {},
   "source": [
    "## Text"
   ]
  },
  {
   "cell_type": "code",
   "execution_count": 61,
   "id": "ca928611",
   "metadata": {},
   "outputs": [
    {
     "name": "stdout",
     "output_type": "stream",
     "text": [
      "Ciphertext : CUZESQZMESQ\n",
      "Original/Decrypted Text : FOXYZTTKYZT\n"
     ]
    }
   ],
   "source": [
    "# This function generates the key in a cyclic manner until\n",
    "# it's length isn't equal to the length of original text\n",
    "\n",
    "def generateKey(string, key):\n",
    "    key = list(key)\n",
    "    if len(string) == len(key):\n",
    "        return(key)\n",
    "    else:\n",
    "        for i in range(len(string) -\n",
    "                    len(key)):\n",
    "            key.append(key[i % len(key)])\n",
    "    return(\"\" . join(key))\n",
    "\n",
    "    \n",
    "    \n",
    "# This function returns the encrypted text generated with the help of the key\n",
    "def cipherText(string, key):\n",
    "    cipher_text = []\n",
    "    for i in range(len(string)):\n",
    "        x = (ord(string[i]) +\n",
    "            ord(key[i])) % 26\n",
    "        x += ord('A')\n",
    "        cipher_text.append(chr(x))\n",
    "    return(\"\" . join(cipher_text))\n",
    "\n",
    "\n",
    "# This function decrypts the encrypted text and returns the original text\n",
    "def originalText(cipher_text, key):\n",
    "    orig_text = []\n",
    "    for i in range(len(cipher_text)):\n",
    "        x = (ord(cipher_text[i]) -\n",
    "            ord(key[i]) + 26) % 26\n",
    "        x += ord('A')\n",
    "        orig_text.append(chr(x))\n",
    "    return(\"\" . join(orig_text))\n",
    "\n",
    "\n",
    "\n",
    "# main code\n",
    "if __name__ == \"__main__\":\n",
    "    string = \"First Test \"\n",
    "    keyword = \"rawan\"\n",
    "    key = generateKey(string, keyword)\n",
    "    cipher_text = cipherText(string,key)\n",
    "    print(\"Ciphertext :\", cipher_text)\n",
    "    print(\"Original/Decrypted Text :\",\n",
    "        originalText(cipher_text, key))"
   ]
  },
  {
   "cell_type": "markdown",
   "id": "a1431458",
   "metadata": {},
   "source": [
    "<hr><hr>"
   ]
  },
  {
   "cell_type": "markdown",
   "id": "88ae3526",
   "metadata": {},
   "source": [
    "# Playfair cipher\n",
    "## Text"
   ]
  },
  {
   "cell_type": "code",
   "execution_count": 62,
   "id": "608feaf7",
   "metadata": {},
   "outputs": [],
   "source": [
    "# Function to convert the string to lowercase\n",
    "def toLowerCase(text):\n",
    "    return text.lower()\n",
    "\n",
    "\n",
    "# Function to remove all spaces in a string\n",
    "def removeSpaces(text):\n",
    "    newText = \"\"\n",
    "    for i in text:\n",
    "        if i == \" \":\n",
    "            continue\n",
    "        else:\n",
    "            newText = newText + i\n",
    "    return newText\n",
    "\n",
    "\n",
    "# Function to group 2 elements of a string as a list element\n",
    "def Diagraph(text):\n",
    "    Diagraph = []\n",
    "    group = 0\n",
    "    for i in range(2, len(text), 2):\n",
    "        Diagraph.append(text[group:i])\n",
    "\n",
    "        group = i\n",
    "    Diagraph.append(text[group:])\n",
    "    return Diagraph\n",
    "\n",
    "\n",
    "\n",
    "# Function to fill a letter in a string element\n",
    "# If 2 letters in the same string matches\n",
    "def FillerLetter(text):\n",
    "    k = len(text)\n",
    "    if k % 2 == 0:\n",
    "        for i in range(0, k, 2):\n",
    "            if text[i] == text[i+1]:\n",
    "                new_word = text[0:i+1] + str('x') + text[i+1:]\n",
    "                new_word = FillerLetter(new_word)\n",
    "                break\n",
    "            else:\n",
    "                new_word = text\n",
    "    else:\n",
    "        for i in range(0, k-1, 2):\n",
    "            if text[i] == text[i+1]:\n",
    "                new_word = text[0:i+1] + str('x') + text[i+1:]\n",
    "                new_word = FillerLetter(new_word)\n",
    "                break\n",
    "            else:\n",
    "                new_word = text\n",
    "    return new_word\n",
    "\n",
    "\n",
    "list1 = ['a', 'b', 'c', 'd', 'e', 'f', 'g', 'h', 'i', 'k', 'l', 'm',\n",
    "        'n', 'o', 'p', 'q', 'r', 's', 't', 'u', 'v', 'w', 'x', 'y', 'z']\n",
    "\n",
    "\n",
    "\n",
    "# Function to generate the 5x5 key square matrix\n",
    "def generateKeyTable(word, list1):\n",
    "    key_letters = []\n",
    "    for i in word:\n",
    "        if i not in key_letters:\n",
    "            key_letters.append(i)\n",
    "\n",
    "    compElements = []\n",
    "    for i in key_letters:\n",
    "        if i not in compElements:\n",
    "            compElements.append(i)\n",
    "    for i in list1:\n",
    "        if i not in compElements:\n",
    "            compElements.append(i)\n",
    "\n",
    "    matrix = []\n",
    "    while compElements != []:\n",
    "        matrix.append(compElements[:5])\n",
    "        compElements = compElements[5:]\n",
    "\n",
    "    return matrix\n",
    "\n",
    "\n",
    "def search(mat, element):\n",
    "    for i in range(5):\n",
    "        for j in range(5):\n",
    "            if(mat[i][j] == element):\n",
    "                return i, j\n",
    "\n",
    "\n",
    "def encrypt_RowRule(matr, e1r, e1c, e2r, e2c):\n",
    "    char1 = ''\n",
    "    if e1c == 4:\n",
    "        char1 = matr[e1r][0]\n",
    "    else:\n",
    "        char1 = matr[e1r][e1c+1]\n",
    "\n",
    "    char2 = ''\n",
    "    if e2c == 4:\n",
    "        char2 = matr[e2r][0]\n",
    "    else:\n",
    "        char2 = matr[e2r][e2c+1]\n",
    "\n",
    "    return char1, char2\n",
    "\n",
    "\n",
    "def encrypt_ColumnRule(matr, e1r, e1c, e2r, e2c):\n",
    "    char1 = ''\n",
    "    if e1r == 4:\n",
    "        char1 = matr[0][e1c]\n",
    "    else:\n",
    "        char1 = matr[e1r+1][e1c]\n",
    "\n",
    "    char2 = ''\n",
    "    if e2r == 4:\n",
    "        char2 = matr[0][e2c]\n",
    "    else:\n",
    "        char2 = matr[e2r+1][e2c]\n",
    "\n",
    "    return char1, char2\n",
    "\n",
    "\n",
    "def encrypt_RectangleRule(matr, e1r, e1c, e2r, e2c):\n",
    "    char1 = ''\n",
    "    char1 = matr[e1r][e2c]\n",
    "    char2 = ''\n",
    "    char2 = matr[e2r][e1c]\n",
    "\n",
    "    return char1, char2\n",
    "\n",
    "\n",
    "def encryptByPlayfairCipher(Matrix, plainList):\n",
    "    CipherText = []\n",
    "    for i in range(0, len(plainList)):\n",
    "        c1 = 0\n",
    "        c2 = 0\n",
    "        ele1_x, ele1_y = search(Matrix, plainList[i][0])\n",
    "        ele2_x, ele2_y = search(Matrix, plainList[i][1])\n",
    "\n",
    "        if ele1_x == ele2_x:\n",
    "            c1, c2 = encrypt_RowRule(Matrix, ele1_x, ele1_y, ele2_x, ele2_y)\n",
    "            # Get 2 letter cipherText\n",
    "        elif ele1_y == ele2_y:\n",
    "            c1, c2 = encrypt_ColumnRule(Matrix, ele1_x, ele1_y, ele2_x, ele2_y)\n",
    "        else:\n",
    "            c1, c2 = encrypt_RectangleRule(\n",
    "                Matrix, ele1_x, ele1_y, ele2_x, ele2_y)\n",
    "\n",
    "        cipher = c1 + c2\n",
    "        CipherText.append(cipher)\n",
    "    return CipherText"
   ]
  },
  {
   "cell_type": "code",
   "execution_count": 63,
   "id": "ce5291ca",
   "metadata": {},
   "outputs": [
    {
     "name": "stdout",
     "output_type": "stream",
     "text": [
      "Key text: rawan\n",
      "Plain Text: testthiscode\n",
      "CipherText: qgtoomlphuef\n"
     ]
    }
   ],
   "source": [
    "text_Plain = 'test this code'\n",
    "text_Plain = removeSpaces(toLowerCase(text_Plain))\n",
    "PlainTextList = Diagraph(FillerLetter(text_Plain))\n",
    "if len(PlainTextList[-1]) != 2:\n",
    "    PlainTextList[-1] = PlainTextList[-1]+'z'\n",
    "\n",
    "key = \"rawan\"\n",
    "print(\"Key text:\", key)\n",
    "key = toLowerCase(key)\n",
    "Matrix = generateKeyTable(key, list1)\n",
    "\n",
    "print(\"Plain Text:\", text_Plain)\n",
    "CipherList = encryptByPlayfairCipher(Matrix, PlainTextList)\n",
    "\n",
    "CipherText = \"\"\n",
    "for i in CipherList:\n",
    "    CipherText += i\n",
    "print(\"CipherText:\", CipherText)"
   ]
  },
  {
   "cell_type": "code",
   "execution_count": null,
   "id": "be05eabf",
   "metadata": {},
   "outputs": [],
   "source": []
  }
 ],
 "metadata": {
  "kernelspec": {
   "display_name": "Python 3",
   "language": "python",
   "name": "python3"
  },
  "language_info": {
   "codemirror_mode": {
    "name": "ipython",
    "version": 3
   },
   "file_extension": ".py",
   "mimetype": "text/x-python",
   "name": "python",
   "nbconvert_exporter": "python",
   "pygments_lexer": "ipython3",
   "version": "3.8.8"
  }
 },
 "nbformat": 4,
 "nbformat_minor": 5
}
